{
 "cells": [
  {
   "cell_type": "code",
   "execution_count": null,
   "id": "f62c09e6",
   "metadata": {},
   "outputs": [],
   "source": [
    "!python train_QCNN.py --gpu_idx 0 --mode QCNN --saved_fn 'folder name241008qcnn' --resume_path 'model path'\n",
    "#--resume_path ../checkpoints/QRPN/full_qrpn_pre/Model_block_epoch_118.pth"
   ]
  },
  {
   "cell_type": "code",
   "execution_count": null,
   "id": "4f05929c",
   "metadata": {},
   "outputs": [],
   "source": [
    "!python  train_QCNN.py --evaluate  --gpu_idx 0 --resume_path 'model path'"
   ]
  }
 ],
 "metadata": {
  "kernelspec": {
   "display_name": "Python 3 (ipykernel)",
   "language": "python",
   "name": "python3"
  },
  "language_info": {
   "codemirror_mode": {
    "name": "ipython",
    "version": 3
   },
   "file_extension": ".py",
   "mimetype": "text/x-python",
   "name": "python",
   "nbconvert_exporter": "python",
   "pygments_lexer": "ipython3",
   "version": "3.10.15"
  }
 },
 "nbformat": 4,
 "nbformat_minor": 5
}
