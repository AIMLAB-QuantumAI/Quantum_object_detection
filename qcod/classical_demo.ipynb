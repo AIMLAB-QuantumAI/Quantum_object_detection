{
 "cells": [
  {
   "cell_type": "code",
   "execution_count": null,
   "id": "201c46bb",
   "metadata": {},
   "outputs": [],
   "source": [
    "!python demo_2_sides.py --gpu_idx 0 --peak_thresh 0.2 --saved_fn final_demo_classic"
   ]
  },
  {
   "cell_type": "code",
   "execution_count": null,
   "id": "437e1db8",
   "metadata": {},
   "outputs": [],
   "source": []
  }
 ],
 "metadata": {
  "kernelspec": {
   "display_name": "Python 3 (ipykernel)",
   "language": "python",
   "name": "python3"
  },
  "language_info": {
   "codemirror_mode": {
    "name": "ipython",
    "version": 3
   },
   "file_extension": ".py",
   "mimetype": "text/x-python",
   "name": "python",
   "nbconvert_exporter": "python",
   "pygments_lexer": "ipython3",
   "version": "3.8.10"
  }
 },
 "nbformat": 4,
 "nbformat_minor": 5
}
