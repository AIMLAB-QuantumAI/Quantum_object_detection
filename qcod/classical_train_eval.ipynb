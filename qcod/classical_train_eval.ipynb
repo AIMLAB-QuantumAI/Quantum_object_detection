{
 "cells": [
  {
   "cell_type": "code",
   "execution_count": null,
   "id": "62fcb8fa",
   "metadata": {},
   "outputs": [],
   "source": [
    "!python train.py --gpu_idx 0 --mode classic"
   ]
  },
  {
   "cell_type": "code",
   "execution_count": null,
   "id": "4f9db810",
   "metadata": {},
   "outputs": [],
   "source": [
    "!python train.py --evaluate  --gpu_idx 0 --resume_path './model_path'"
   ]
  },
  {
   "cell_type": "code",
   "execution_count": null,
   "id": "708c4111",
   "metadata": {},
   "outputs": [],
   "source": []
  }
 ],
 "metadata": {
  "kernelspec": {
   "display_name": "Python 3 (ipykernel)",
   "language": "python",
   "name": "python3"
  },
  "language_info": {
   "codemirror_mode": {
    "name": "ipython",
    "version": 3
   },
   "file_extension": ".py",
   "mimetype": "text/x-python",
   "name": "python",
   "nbconvert_exporter": "python",
   "pygments_lexer": "ipython3",
   "version": "3.8.10"
  }
 },
 "nbformat": 4,
 "nbformat_minor": 5
}
